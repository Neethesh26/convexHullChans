{
 "cells": [
  {
   "cell_type": "markdown",
   "metadata": {},
   "source": [
    "# COMP0005 - GROUP COURSEWORK 2023-24\n",
    "# Gesture Recognition via Convex Hull "
   ]
  },
  {
   "cell_type": "markdown",
   "metadata": {},
   "source": [
    "Use the cell below for all python code needed to realise the **Jarvis march algorithm** (including auxiliary data structures and functions needed by this algorithm - if any). The `jarvismarch()` function itself should take as input parameter a list of 2D points (`inputSet`), and return the subset of such points (`outputSet`) that lie on the convex hull."
   ]
  },
  {
   "cell_type": "code",
   "execution_count": 1,
   "metadata": {},
   "outputs": [],
   "source": [
    "import math\n",
    "\n",
    "def orientation(a,b,c):\n",
    "    val = (b[1] - a[1]) * (c[0] - b[0]) - (b[0] - a[0]) * (c[1] - b[1])\n",
    "    if val == 0:\n",
    "        return 0\n",
    "    elif val > 0:\n",
    "        return 1\n",
    "    else:\n",
    "        return 2\n",
    "\n",
    "def jarvismarch(inputSet):\n",
    "    index = 0\n",
    "    outputSet = []\n",
    "    for i in range(len(inputSet)):\n",
    "        if inputSet[i][0]< inputSet[index][0]:\n",
    "            index = i\n",
    "    current = index\n",
    "    while(True):\n",
    "        outputSet.append(inputSet[current])\n",
    "        endpoint = (index + 1) % len(inputSet)\n",
    "        for j in range(len(inputSet)):\n",
    "            if (endpoint == current) or orientation(inputSet[current], inputSet[j], inputSet[endpoint]) == 2:\n",
    "                endpoint = j\n",
    "        current = endpoint\n",
    "        if current == index:\n",
    "            break\n",
    "    return outputSet\n",
    "\n",
    "points = [(-7,8), (-4,6), (2,6), (6,4), (8,6), (7,-2), (4,-6), (8,-7),(0,0), (3,- 2),(6,-10),(0,6),(-9,-5),(-8,-2),(-8,0),(-10,3),(-2,2),(-10,4)]\n",
    "print(jarvismarch(points))\n"
   ]
  },
  {
   "cell_type": "markdown",
   "metadata": {},
   "source": [
    "Use the cell below for all python code needed to realise the **Graham scan** algorithm (including auxiliary data structures and functions needed by this algorithm - if any). The `grahamscan()` function itself should take as input parameter a list of 2D points (`inputSet`), and return the subset of such points that lie on the convex hull (`outputSet`)."
   ]
  },
  {
   "cell_type": "code",
   "execution_count": 2,
   "metadata": {},
   "outputs": [],
   "source": [
    "def grahamscan(inputSet):\n",
    "    '''\n",
    "    Returns the list of points that lie on the convex hull (graham scan algorithm)\n",
    "            Parameters:\n",
    "                    inputSet (list): a list of 2D points\n",
    "\n",
    "            Returns:\n",
    "                    outputSet (list): a list of 2D points\n",
    "    '''\n",
    "\n",
    "    #ADD YOUR CODE HERE\n",
    "\n",
    "    return outputSet"
   ]
  },
  {
   "cell_type": "markdown",
   "metadata": {},
   "source": [
    "Use the cell below for all python code needed to realise the **Chen's** algorithm (including auxiliary data structures and functions needed by this algorithm - if any). The `chen()` function itself should take as input parameter a list of 2D points (`inputSet`), and return the subset of such points that lie on the convex hull (`outputSet`)."
   ]
  },
  {
   "cell_type": "code",
   "execution_count": 3,
   "metadata": {},
   "outputs": [],
   "source": [
    "def chen(inputSet):\n",
    "    '''\n",
    "    Returns the list of points that lie on the convex hull (chen's algorithm)\n",
    "            Parameters:\n",
    "                    inputSet (list): a list of 2D points\n",
    "\n",
    "            Returns:\n",
    "                    outputSet (list): a list of 2D points\n",
    "    '''\n",
    "\n",
    "    #ADD YOUR CODE HERE\n",
    "\n",
    "\n",
    "    return outputSet"
   ]
  },
  {
   "cell_type": "markdown",
   "metadata": {},
   "source": [
    "Use the cell below to implement the **synthetic data generator** needed by your experimental framework (including any auxiliary data structures and functions you might need - be mindful of code readability and reusability)."
   ]
  },
  {
   "cell_type": "code",
   "execution_count": 4,
   "metadata": {},
   "outputs": [],
   "source": [
    "import random\n",
    "\n",
    "class TestDataGenerator():\n",
    "    \"\"\"\n",
    "    A class to represent a synthetic data generator.\n",
    "\n",
    "    ...\n",
    "\n",
    "    Attributes\n",
    "    ----------\n",
    "    \n",
    "    [to be defined as part of the coursework]\n",
    "\n",
    "    Methods\n",
    "    -------\n",
    "    \n",
    "    [to be defined as part of the coursework]\n",
    "\n",
    "    \"\"\"\n",
    "        \n",
    "    #ADD YOUR CODE HERE\n",
    "    \n",
    "    def __init__():\n",
    "        pass\n"
   ]
  },
  {
   "cell_type": "markdown",
   "metadata": {},
   "source": [
    "Use the cell below to implement the requested **experimental framework** API."
   ]
  },
  {
   "cell_type": "code",
   "execution_count": 5,
   "metadata": {},
   "outputs": [],
   "source": [
    "import timeit\n",
    "import matplotlib\n",
    "\n",
    "class ExperimentalFramework():\n",
    "    \"\"\"\n",
    "    A class to represent an experimental framework.\n",
    "\n",
    "    ...\n",
    "\n",
    "    Attributes\n",
    "    ----------\n",
    "    \n",
    "    [to be defined as part of the coursework]\n",
    "\n",
    "    Methods\n",
    "    -------\n",
    "    \n",
    "    [to be defined as part of the coursework]\n",
    "\n",
    "    \"\"\"\n",
    "        \n",
    "    #ADD YOUR CODE HERE\n",
    "    \n",
    "    def __init__():\n",
    "        pass"
   ]
  },
  {
   "cell_type": "markdown",
   "metadata": {},
   "source": [
    "Use the cell below to illustrate the python code you used to **fully evaluate** the three convex hull algortihms under considerations. The code below should illustrate, for example, how you made used of the **TestDataGenerator** class to generate test data of various size and properties; how you instatiated the **ExperimentalFramework** class to  evaluate each algorithm using such data, collect information about their execution time, plots results, etc. Any results you illustrate in the companion PDF report should have been generated using the code below."
   ]
  },
  {
   "cell_type": "code",
   "execution_count": 6,
   "metadata": {},
   "outputs": [],
   "source": [
    "# ADD YOUR TEST CODE HERE \n",
    "\n",
    "\n",
    "\n"
   ]
  }
 ],
 "metadata": {
  "kernelspec": {
   "display_name": "Python 3",
   "language": "python",
   "name": "python3"
  },
  "language_info": {
   "codemirror_mode": {
    "name": "ipython",
    "version": 3
   },
   "file_extension": ".py",
   "mimetype": "text/x-python",
   "name": "python",
   "nbconvert_exporter": "python",
   "pygments_lexer": "ipython3",
   "version": "3.9.5"
  }
 },
 "nbformat": 4,
 "nbformat_minor": 4
}
