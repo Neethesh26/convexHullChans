{
 "cells": [
  {
   "cell_type": "markdown",
   "metadata": {},
   "source": [
    "# COMP0005 - GROUP COURSEWORK 2023-24\n",
    "# Gesture Recognition via Convex Hull "
   ]
  },
  {
   "cell_type": "markdown",
   "metadata": {},
   "source": [
    "Use the cell below for all python code needed to realise the **Jarvis march algorithm** (including auxiliary data structures and functions needed by this algorithm - if any). The `jarvismarch()` function itself should take as input parameter a list of 2D points (`inputSet`), and return the subset of such points (`outputSet`) that lie on the convex hull."
   ]
  },
  {
   "cell_type": "code",
   "execution_count": 76,
   "metadata": {},
   "outputs": [],
   "source": [
    "from math import pi, atan2 # for computing polar angle\n",
    "\n",
    "class GraphUtils():    \n",
    "    def orientation(a, b, c):\n",
    "        val = (b[1] - a[1]) * (c[0] - b[0]) - (b[0] - a[0]) * (c[1] - b[1])\n",
    "        # return 0 if collinear\n",
    "        if val == 0:\n",
    "            return 0\n",
    "        # return 1 if counterclockwise orientation\n",
    "        elif val > 0:\n",
    "            return 1\n",
    "        # return -1 if clockwise orientation\n",
    "        else:\n",
    "            return -1\n",
    "        \n",
    "    def getMinY(points):\n",
    "        min = points[0]\n",
    "        for point in points:\n",
    "            if point[1] < min[1]:\n",
    "                min = point\n",
    "        return min\n",
    "    \n",
    "    def dist(a, b):\n",
    "        xDiffSquare = (a[0] - b[0]) ** 2\n",
    "        yDiffSquare = (a[1] - b[1]) ** 2\n",
    "        sumSquare = (xDiffSquare + yDiffSquare) ** 2\n",
    "        return sumSquare\n",
    "    \n",
    "    def angle(a, b):\n",
    "        angle = atan2(b[1] - a[1], b[0] - a[0]) * (180 / pi)\n",
    "        if angle < 0:\n",
    "            angle += 360\n",
    "        return angle\n",
    "    \n",
    "    def isCounterClockWise(self, a, b, c):\n",
    "        return self.orientation(a,b,c) > 0\n",
    "\n",
    "    def sort_key(point, P):\n",
    "        if point == P:\n",
    "            return float('-inf'), 0\n",
    "        currAngle = GraphUtils.angle(point, P)\n",
    "        distance_squared = GraphUtils.dist(point, P)\n",
    "        return currAngle, distance_squared    "
   ]
  },
  {
   "cell_type": "code",
   "execution_count": 106,
   "metadata": {},
   "outputs": [
    {
     "name": "stdout",
     "output_type": "stream",
     "text": [
      "(6, -10)\n",
      "[(6, -10), (8, -7), (8, 6), (-7, 8), (-10, 4), (-10, 3), (-9, -5)]\n"
     ]
    }
   ],
   "source": [
    "def jarvismarch(inputSet):\n",
    "    if len(inputSet) <= 3:\n",
    "        return inputSet\n",
    "\n",
    "    hull = []\n",
    "    startPoint = GraphUtils.getMinY(inputSet)\n",
    "    print(startPoint)\n",
    "    hull.append(startPoint)\n",
    "    prev = startPoint\n",
    "    prevAngle = -1\n",
    "    while(True):\n",
    "        minAngle = float('inf')\n",
    "        maxDist = 0\n",
    "        next = None\n",
    "        \n",
    "        for point in inputSet:\n",
    "            if  point == prev: \n",
    "                continue\n",
    "            angle = GraphUtils.angle(prev, point)\n",
    "            dist = GraphUtils.dist(prev, point)\n",
    "            compareAngles = 0 if angle == minAngle else (-1 if angle < minAngle else 1)\n",
    "            if compareAngles <= 0 and angle > prevAngle:\n",
    "                if compareAngles < 0 or dist > maxDist:\n",
    "                    minAngle = angle\n",
    "                    maxDist = dist\n",
    "                    next = point\n",
    "\n",
    "        if next == startPoint:\n",
    "            break\n",
    "\n",
    "        hull.append(next)\n",
    "\n",
    "        prevAngle = GraphUtils.angle(prev, next)\n",
    "        prev = next\n",
    "    \n",
    "    return hull\n",
    "\n",
    "points = [(-7,8), (-4,6), (2,6), (6,4), (8,6), (7,-2), (4,-6), (8,-7),(0,0), (3,- 2),(6,-10),(0,6),(-9,-5),(-8,-2),(-8,0),(-10,3),(-2,2),(-10,4)]\n",
    "# points = [(0, 0), (0, 4), (-4, 0), (5, 0), (0, -6), (1, 0)]\n",
    "print(jarvismarch(points))\n"
   ]
  },
  {
   "cell_type": "markdown",
   "metadata": {},
   "source": [
    "Use the cell below for all python code needed to realise the **Graham scan** algorithm (including auxiliary data structures and functions needed by this algorithm - if any). The `grahamscan()` function itself should take as input parameter a list of 2D points (`inputSet`), and return the subset of such points that lie on the convex hull (`outputSet`)."
   ]
  },
  {
   "cell_type": "code",
   "execution_count": 95,
   "metadata": {},
   "outputs": [
    {
     "name": "stdout",
     "output_type": "stream",
     "text": [
      "[(-10, 3), (-10, 4), (-7, 8), (8, 6), (8, -7), (6, -10), (-9, -5)]\n"
     ]
    }
   ],
   "source": [
    "import functools \n",
    "\n",
    "def turn(a, b, c):\n",
    "    val = (b[1] - a[1]) * (c[0] - b[0]) - (b[0] - a[0]) * (c[1] - b[1])\n",
    "    # return 0 if collinear\n",
    "    if val == 0:\n",
    "        return 0\n",
    "    # return 1 if counterclockwise orientation\n",
    "    elif val > 0:\n",
    "        return 1\n",
    "    # return -1 if clockwise orientation\n",
    "    else:\n",
    "        return -1\n",
    "\n",
    "def _keep_left(hull, r):\n",
    "    while len(hull) > 1 and turn(hull[-2], hull[-1], r) != 1:\n",
    "            hull.pop()\n",
    "    return (not len(hull) or hull[-1] != r) and hull.append(r) or hull\n",
    "\n",
    "def _graham_scan(points):\n",
    "    \"\"\"Returns points on convex hull of an array of points in CCW order.\"\"\"\n",
    "    points.sort()\n",
    "    lh = functools.reduce(_keep_left, points, [])\n",
    "    uh = functools.reduce(_keep_left, reversed(points), [])\n",
    "    return lh.extend(uh[i] for i in range(1, len(uh) - 1)) or lh\n",
    "\n",
    "points = [(-7,8), (-4,6), (2,6), (6,4), (8,6), (7,-2), (4,-6), (8,-7),(0,0), (3,- 2),(6,-10),(0,6),(-9,-5),(-8,-2),(-8,0),(-10,3),(-2,2),(-10,4)]\n",
    "print(_graham_scan(points))"
   ]
  },
  {
   "cell_type": "code",
   "execution_count": 113,
   "metadata": {},
   "outputs": [
    {
     "name": "stdout",
     "output_type": "stream",
     "text": [
      "[(0, -6), (5, 0), (0, 4), (-4, 0)]\n"
     ]
    }
   ],
   "source": [
    "def grahamscan(inputSet):\n",
    "    '''\n",
    "    Returns the list of points that lie on the convex hull (graham scan algorithm)\n",
    "            Parameters:\n",
    "                    inputSet (list): a list of 2D points\n",
    "\n",
    "            Returns:\n",
    "                    outputSet (list): a list of 2D points\n",
    "    '''\n",
    "    if len(inputSet) <= 3:\n",
    "        return inputSet\n",
    "\n",
    "    def sort_key(point, P):\n",
    "        angle = atan2(point[1] - P[1], point[0] - P[0])\n",
    "        distance_squared = (point[0] - P[0])**2 + (point[1] - P[1])**2\n",
    "        return (angle, distance_squared)\n",
    "    \n",
    "    stack = []\n",
    "    minYPoint = GraphUtils.getMinY(inputSet)\n",
    "    inputSet.remove(minYPoint)\n",
    "    sortedInputSet = sorted(inputSet, key=lambda p: sort_key(p, minYPoint))\n",
    "    stack.append(minYPoint)\n",
    "    stack.append(sortedInputSet[0])\n",
    "\n",
    "    for i in range(1, len(sortedInputSet)):\n",
    "        next = sortedInputSet[i]\n",
    "        while len(stack) > 1 and GraphUtils.orientation(stack[-2], stack[-1], next) != -1:\n",
    "            stack.pop()\n",
    "        stack.append(next)\n",
    "\n",
    "    return stack\n",
    "\n",
    "# points = [(-7,8), (-4,6), (2,6), (6,4), (8,6), (7,-2), (4,-6), (8,-7),(0,0), (3,- 2),(6,-10),(0,6),(-9,-5),(-8,-2),(-8,0),(-10,3),(-2,2),(-10,4)]\n",
    "points = [(0, 0), (0, 4), (-4, 0), (5, 0), (0, -6), (1, 0)]\n",
    "# points = [(1,4),(5,6),(2,10),(8,2),(-1,8),(6,3),(7,7),(4,4),(3,9)]\n",
    "\n",
    "print(grahamscan(points))\n"
   ]
  },
  {
   "cell_type": "markdown",
   "metadata": {},
   "source": [
    "Use the cell below for all python code needed to realise the **Chen's** algorithm (including auxiliary data structures and functions needed by this algorithm - if any). The `chen()` function itself should take as input parameter a list of 2D points (`inputSet`), and return the subset of such points that lie on the convex hull (`outputSet`)."
   ]
  },
  {
   "cell_type": "code",
   "execution_count": 118,
   "metadata": {},
   "outputs": [
    {
     "name": "stdout",
     "output_type": "stream",
     "text": [
      "[(-4, 0), (1, 0), (0, -6)]\n"
     ]
    }
   ],
   "source": [
    "def chen(inputSet):    \n",
    "     \n",
    "     def tangent(hull, p):\n",
    "          l = 0 #left most element in the list\n",
    "          r = len(hull) #right most element in the list\n",
    "          lPre = GraphUtils.orientation(p, hull[0], hull[-1])\n",
    "          lSucc = GraphUtils.orientation(p, hull[0], hull[(l + 1) % r])\n",
    "          while l < r:\n",
    "               m = l + ((r - l) // 2) #middle element in the list \n",
    "               mPre = GraphUtils.orientation(p, hull[m], hull[int((m - 1) % len(hull))])\n",
    "               mSucc = GraphUtils.orientation(p, hull[m], hull[int((m + 1) % len(hull))])\n",
    "               mSide = GraphUtils.orientation(p, hull[l], hull[m])\n",
    "               if mPre != -1 and mSucc != -1:\n",
    "                    return m\n",
    "               elif (mSide == 1) and (lSucc == -1 or lPre == lSucc) or (mSide == -1) and (mPre == -1):\n",
    "                    r = m              \n",
    "               else:\n",
    "                    l = m + 1           \n",
    "                    lPre = -mSucc    \n",
    "                    lSucc = GraphUtils.orientation(p, hull[l], hull[(l + 1) % len(hull)])\n",
    "          return l\n",
    "     \n",
    "     def minHullPtPair(hulls):\n",
    "          hull = 0\n",
    "          pt = 0\n",
    "          for i in range(len(hulls)):\n",
    "               j = min(range(len(hulls[i])), key=lambda j: hulls[i][j])\n",
    "               if hulls[i][j] < hulls[hull][pt]:\n",
    "                    hull = i\n",
    "                    pt = j\n",
    "          return (hull, pt)\n",
    "     \n",
    "     def nextHullPtPair(hulls, pair):\n",
    "          p = hulls[pair[0]][pair[1]]\n",
    "          next_pair = (pair[0], (pair[1] + 1) % len(hulls[pair[0]]))\n",
    "          for h in (i for i in range(len(hulls)) if i != pair[0]):\n",
    "               s = tangent(hulls[h], p)\n",
    "               q, r = hulls[next_pair[0]][next_pair[1]], hulls[h][s]\n",
    "               t = turn(p, q, r)\n",
    "               if t == -1 or (t == 0 and GraphUtils.dist(p, r) > GraphUtils.dist(p, q)):\n",
    "                    next_pair = (h, s)\n",
    "          return next_pair\n",
    "\n",
    "     for m in (1 << (1 << t) for t in range(len(inputSet))):\n",
    "          hulls = [grahamscan(inputSet[i:i+m]) for i in range(0, len(inputSet), m)]\n",
    "          hull = [minHullPtPair(hulls)]\n",
    "          for _ in range(m):\n",
    "               p = nextHullPtPair(hulls, hull[-1])\n",
    "               if p == hull[0]:\n",
    "                    return [hulls[h][i] for h,i in hull]\n",
    "               hull.append(p)\n",
    "\n",
    "# points = [(-7,8), (-4,6), (2,6), (6,4), (8,6), (7,-2), (4,-6), (8,-7),(0,0), (3,- 2),(6,-10),(0,6),(-9,-5),(-8,-2),(-8,0),(-10,3),(-2,2),(-10,4)]\n",
    "points = [(0, 0), (0, 4), (-4, 0), (5, 0), (0, -6), (1, 0)]\n",
    "# points = [(1,4),(5,6),(2,10),(8,2),(-1,8),(6,3),(7,7),(4,4),(3,9)]\n",
    "\n",
    "\n",
    "print(chen(points))\n",
    "         "
   ]
  },
  {
   "cell_type": "markdown",
   "metadata": {},
   "source": [
    "Use the cell below to implement the **synthetic data generator** needed by your experimental framework (including any auxiliary data structures and functions you might need - be mindful of code readability and reusability)."
   ]
  },
  {
   "cell_type": "code",
   "execution_count": 4,
   "metadata": {},
   "outputs": [],
   "source": [
    "import random\n",
    "\n",
    "class TestDataGenerator():\n",
    "    \"\"\"\n",
    "    A class to represent a synthetic data generator.\n",
    "\n",
    "    ...\n",
    "\n",
    "    Attributes\n",
    "    ----------\n",
    "    \n",
    "    [to be defined as part of the coursework]\n",
    "\n",
    "    Methods\n",
    "    -------\n",
    "    \n",
    "    [to be defined as part of the coursework]\n",
    "\n",
    "    \"\"\"\n",
    "        \n",
    "    #ADD YOUR CODE HERE\n",
    "    \n",
    "    def __init__():\n",
    "        pass\n"
   ]
  },
  {
   "cell_type": "markdown",
   "metadata": {},
   "source": [
    "Use the cell below to implement the requested **experimental framework** API."
   ]
  },
  {
   "cell_type": "code",
   "execution_count": 5,
   "metadata": {},
   "outputs": [],
   "source": [
    "import timeit\n",
    "import matplotlib\n",
    "\n",
    "class ExperimentalFramework():\n",
    "    \"\"\"\n",
    "    A class to represent an experimental framework.\n",
    "\n",
    "    ...\n",
    "\n",
    "    Attributes\n",
    "    ----------\n",
    "    \n",
    "    [to be defined as part of the coursework]\n",
    "\n",
    "    Methods\n",
    "    -------\n",
    "    \n",
    "    [to be defined as part of the coursework]\n",
    "\n",
    "    \"\"\"\n",
    "        \n",
    "    #ADD YOUR CODE HERE\n",
    "    \n",
    "    def __init__():\n",
    "        pass"
   ]
  },
  {
   "cell_type": "markdown",
   "metadata": {},
   "source": [
    "Use the cell below to illustrate the python code you used to **fully evaluate** the three convex hull algortihms under considerations. The code below should illustrate, for example, how you made used of the **TestDataGenerator** class to generate test data of various size and properties; how you instatiated the **ExperimentalFramework** class to  evaluate each algorithm using such data, collect information about their execution time, plots results, etc. Any results you illustrate in the companion PDF report should have been generated using the code below."
   ]
  },
  {
   "cell_type": "code",
   "execution_count": 6,
   "metadata": {},
   "outputs": [],
   "source": [
    "# ADD YOUR TEST CODE HERE \n",
    "\n",
    "\n",
    "\n"
   ]
  }
 ],
 "metadata": {
  "kernelspec": {
   "display_name": "Python 3",
   "language": "python",
   "name": "python3"
  },
  "language_info": {
   "codemirror_mode": {
    "name": "ipython",
    "version": 3
   },
   "file_extension": ".py",
   "mimetype": "text/x-python",
   "name": "python",
   "nbconvert_exporter": "python",
   "pygments_lexer": "ipython3",
   "version": "3.11.6"
  }
 },
 "nbformat": 4,
 "nbformat_minor": 4
}
